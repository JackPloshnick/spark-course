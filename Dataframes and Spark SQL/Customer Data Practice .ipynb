{
 "cells": [
  {
   "cell_type": "code",
   "execution_count": 4,
   "metadata": {},
   "outputs": [],
   "source": [
    "from pyspark.sql import SparkSession\n",
    "from pyspark.sql import functions as func\n",
    "from pyspark.sql.types import StructType, StructField, StringType, IntegerType, FloatType\n",
    "spark = SparkSession.builder.getOrCreate()"
   ]
  },
  {
   "cell_type": "code",
   "execution_count": 6,
   "metadata": {},
   "outputs": [
    {
     "name": "stdout",
     "output_type": "stream",
     "text": [
      "+-----------+-------+-----+\n",
      "|customer_id|Item_id| cost|\n",
      "+-----------+-------+-----+\n",
      "|         44|   8602|37.19|\n",
      "|         35|   5368|65.89|\n",
      "|          2|   3391|40.64|\n",
      "|         47|   6694|14.98|\n",
      "|         29|    680|13.08|\n",
      "+-----------+-------+-----+\n",
      "only showing top 5 rows\n",
      "\n"
     ]
    }
   ],
   "source": [
    "#specifying how the data should be read in \n",
    "schema = StructType([ \\\n",
    "                     StructField(\"customer_id\", IntegerType(), True), \\\n",
    "                     StructField(\"Item_id\", IntegerType(), True), \\\n",
    "                     StructField(\"cost\", FloatType(), True)])\n",
    "\n",
    "# // Read the file as dataframe\n",
    "df = spark.read.schema(schema).csv(\"customer-orders.csv\")\n",
    "df.show(5)"
   ]
  },
  {
   "cell_type": "code",
   "execution_count": 29,
   "metadata": {},
   "outputs": [
    {
     "name": "stdout",
     "output_type": "stream",
     "text": [
      "+-----------+-------+\n",
      "|customer_id|   cost|\n",
      "+-----------+-------+\n",
      "|         68|6375.45|\n",
      "|         73| 6206.2|\n",
      "|         39|6193.11|\n",
      "|         54|6065.39|\n",
      "|         71|5995.66|\n",
      "+-----------+-------+\n",
      "only showing top 5 rows\n",
      "\n"
     ]
    }
   ],
   "source": [
    "##Spend by customer\n",
    "cost_per_customer = df.groupBy('customer_id').sum('cost')\n",
    "\n",
    "cost_per_customer = cost_per_customer.withColumn('cost',func.round(func.col('sum(cost)'),2 ))\\\n",
    "                    .select('customer_id','cost').sort('cost', ascending = False).show(5)"
   ]
  },
  {
   "cell_type": "code",
   "execution_count": 35,
   "metadata": {},
   "outputs": [
    {
     "name": "stdout",
     "output_type": "stream",
     "text": [
      "+-----------+-------+\n",
      "|customer_id|   cost|\n",
      "+-----------+-------+\n",
      "|         68|6375.45|\n",
      "|         73| 6206.2|\n",
      "|         39|6193.11|\n",
      "|         54|6065.39|\n",
      "|         71|5995.66|\n",
      "+-----------+-------+\n",
      "only showing top 5 rows\n",
      "\n"
     ]
    }
   ],
   "source": [
    "#better way\n",
    "df.groupBy('customer_id')\\\n",
    "    .agg(func.round(func.sum('cost'),2).alias('cost'))\\\n",
    "    .sort('cost', ascending = False)\\\n",
    "    .show(5)"
   ]
  },
  {
   "cell_type": "code",
   "execution_count": 37,
   "metadata": {},
   "outputs": [],
   "source": [
    "spark.stop()"
   ]
  }
 ],
 "metadata": {
  "kernelspec": {
   "display_name": "Python 3",
   "language": "python",
   "name": "python3"
  },
  "language_info": {
   "codemirror_mode": {
    "name": "ipython",
    "version": 3
   },
   "file_extension": ".py",
   "mimetype": "text/x-python",
   "name": "python",
   "nbconvert_exporter": "python",
   "pygments_lexer": "ipython3",
   "version": "3.8.5"
  }
 },
 "nbformat": 4,
 "nbformat_minor": 4
}
